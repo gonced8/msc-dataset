{
 "cells": [
  {
   "cell_type": "code",
   "execution_count": 12,
   "metadata": {},
   "outputs": [
    {
     "name": "stdout",
     "output_type": "stream",
     "text": [
      "Number of dialogues in test set: 501\n"
     ]
    }
   ],
   "source": [
    "import json\n",
    "\n",
    "# Load test set of MSC dataset session 2\n",
    "for ext in [\"jsonl\", \"txt\"]:\n",
    "    try:\n",
    "        with open(\"data/msc/msc/msc_dialogue/session_2/test.{ext}\") as f:\n",
    "            data = [json.loads(line) for line in f]\n",
    "            break\n",
    "    except FileNotFoundError:\n",
    "        pass\n",
    "\n",
    "print(f\"Number of dialogues in test set: {len(data)}\")\n"
   ]
  },
  {
   "cell_type": "code",
   "execution_count": 13,
   "metadata": {},
   "outputs": [],
   "source": [
    "from itertools import cycle\n",
    "\n",
    "dataset = [\n",
    "    {\n",
    "        \"personas\": dialogue[\"personas\"],\n",
    "        \"dialog\": [\n",
    "            {\n",
    "                \"text\": turn[\"text\"],\n",
    "                \"id\": speaker,\n",
    "                \"convai_id\": dialogue[\"metadata\"][\"initial_data_id\"],\n",
    "            }\n",
    "            for turn, speaker in zip(\n",
    "                dialogue[\"previous_dialogs\"][0][\"dialog\"],\n",
    "                cycle([\"Speaker 1\", \"Speaker 2\"]),\n",
    "            )\n",
    "        ],\n",
    "        \"metadata\": {\n",
    "            \"initial_data_id\": dialogue[\"metadata\"][\"initial_data_id\"],\n",
    "            \"session_id\": 0,\n",
    "        },\n",
    "    }\n",
    "    for dialogue in data\n",
    "]\n"
   ]
  },
  {
   "cell_type": "code",
   "execution_count": 14,
   "metadata": {},
   "outputs": [
    {
     "data": {
      "text/plain": [
       "{'personas': [['I own a Jeep.',\n",
       "   'I enjoy exercising at the gym.',\n",
       "   'I have a marketing job.',\n",
       "   \"I don't eat meat.\",\n",
       "   'I am from New England.',\n",
       "   'I like warm pants in winter.'],\n",
       "  [\"I don't own a car. I enjoy running and walking. I live in a small town. I live semi-close towkr.\",\n",
       "   \"I'm a computer programmer.\",\n",
       "   'I like grilling steak.',\n",
       "   'I am from Alaska. I like wearing warm pants.']],\n",
       " 'dialog': [{'text': 'What kind of car do you own? I have a jeep.',\n",
       "   'id': 'Speaker 1',\n",
       "   'convai_id': 'test_0'},\n",
       "  {'text': \"I don't own my own car! I actually really enjoying walking and running, but then again, I live in a small town and semi-close to work.\",\n",
       "   'id': 'Speaker 2',\n",
       "   'convai_id': 'test_0'},\n",
       "  {'text': 'Ah I see! I like going to the gym to work out.',\n",
       "   'id': 'Speaker 1',\n",
       "   'convai_id': 'test_0'},\n",
       "  {'text': \"I'm a computer programmer. What do you do for work.\",\n",
       "   'id': 'Speaker 2',\n",
       "   'convai_id': 'test_0'},\n",
       "  {'text': 'I work in marketing. Do you have any hobbies?',\n",
       "   'id': 'Speaker 1',\n",
       "   'convai_id': 'test_0'},\n",
       "  {'text': 'I love to grill! I love meat, especially steak.',\n",
       "   'id': 'Speaker 2',\n",
       "   'convai_id': 'test_0'},\n",
       "  {'text': \"Oh neat! I don't eat meat but I do like some grilled veggies.\",\n",
       "   'id': 'Speaker 1',\n",
       "   'convai_id': 'test_0'},\n",
       "  {'text': 'My family is from alaska. Where are you from?',\n",
       "   'id': 'Speaker 2',\n",
       "   'convai_id': 'test_0'},\n",
       "  {'text': \"I'm from new england. It must be cold up there.\",\n",
       "   'id': 'Speaker 1',\n",
       "   'convai_id': 'test_0'},\n",
       "  {'text': \"It's so cold! I think thats why I love wearing warm pants!\",\n",
       "   'id': 'Speaker 2',\n",
       "   'convai_id': 'test_0'},\n",
       "  {'text': 'Haha I feel you. I love wearin warm pants in the winter.',\n",
       "   'id': 'Speaker 1',\n",
       "   'convai_id': 'test_0'},\n",
       "  {'text': 'Do you play any sports?',\n",
       "   'id': 'Speaker 2',\n",
       "   'convai_id': 'test_0'}],\n",
       " 'metadata': {'initial_data_id': 'test_0', 'session_id': 0}}"
      ]
     },
     "execution_count": 14,
     "metadata": {},
     "output_type": "execute_result"
    }
   ],
   "source": [
    "dataset[0]\n"
   ]
  },
  {
   "cell_type": "code",
   "execution_count": 15,
   "metadata": {},
   "outputs": [],
   "source": [
    "# Save dataset as JSONL file\n",
    "import json\n",
    "\n",
    "with open(f\"./data/msc/msc/msc_dialogue/session_1/test.jsonl\", \"w\") as f:\n",
    "    for sample in dataset:\n",
    "        f.write(json.dumps(sample) + \"\\n\")\n"
   ]
  },
  {
   "cell_type": "code",
   "execution_count": null,
   "metadata": {},
   "outputs": [],
   "source": []
  }
 ],
 "metadata": {
  "kernelspec": {
   "display_name": "env",
   "language": "python",
   "name": "python3"
  },
  "language_info": {
   "codemirror_mode": {
    "name": "ipython",
    "version": 3
   },
   "file_extension": ".py",
   "mimetype": "text/x-python",
   "name": "python",
   "nbconvert_exporter": "python",
   "pygments_lexer": "ipython3",
   "version": "3.11.4"
  },
  "orig_nbformat": 4
 },
 "nbformat": 4,
 "nbformat_minor": 2
}
